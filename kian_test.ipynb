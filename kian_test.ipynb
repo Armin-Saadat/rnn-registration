{
 "cells": [
  {
   "cell_type": "markdown",
   "id": "73d153b5-b81a-4baa-be07-11afc28f3a4a",
   "metadata": {},
   "source": [
    "# Test"
   ]
  },
  {
   "cell_type": "code",
   "execution_count": 13,
   "id": "2470df6f-7a69-40c8-951b-2b69cc0ac87d",
   "metadata": {},
   "outputs": [],
   "source": [
    "import pickle\n",
    "import matplotlib.pyplot as plt\n",
    "import torch\n",
    "import numpy as np\n",
    "import time\n",
    "\n",
    "import neurite as ne\n",
    "from utils import losses\n",
    "\n",
    "from torch.utils.data import Dataset\n",
    "from torch.utils.data import DataLoader\n",
    "\n",
    "\n",
    "class Args():\n",
    "    def __init__(self):        \n",
    "        self.batch_size = 1\n",
    "        self.smooth_weight = 0.01 \n",
    "        self.seg_weight = 0 \n",
    "args = Args()\n",
    "\n",
    "\n",
    "class Dataset_(Dataset):\n",
    "    def __init__(self, images, labels):\n",
    "        self.images = images\n",
    "        self.labels = labels\n",
    "        self.image_size = images[0].shape[1:]\n",
    "        self.ndims = len(self.image_size)\n",
    "\n",
    "    def __len__(self):\n",
    "        return len(self.images)\n",
    "\n",
    "    def __getitem__(self, index):\n",
    "        outputs = [self.images[index], self.labels[index]]\n",
    "        return tuple(outputs)\n",
    "    \n",
    "    \n",
    "with open('/HDD/vxm-models/structured-data/filtered_images.pkl', 'rb') as f:\n",
    "    pre_images = pickle.load(f)\n",
    "\n",
    "with open('/HDD/vxm-models/structured-data/filtered_labels.pkl', 'rb') as f:\n",
    "    pre_labels = pickle.load(f)\n",
    "\n",
    "images, labels = [], []\n",
    "for ind, img in pre_images.items():\n",
    "    inp = torch.from_numpy(img)\n",
    "    p_inp = torch.nn.functional.pad(inp, pad=(0, 0, 0, 0, 0, 40 - inp.shape[0]), mode='constant', value=0)\n",
    "    images.append(p_inp)\n",
    "\n",
    "for ind, img in pre_labels.items():\n",
    "    inp = torch.from_numpy(img)\n",
    "    p_inp = torch.nn.functional.pad(inp, pad=(0, 0, 0, 0, 0, 40 - inp.shape[0]), mode='constant', value=0)\n",
    "    labels.append(p_inp)    \n",
    "\n",
    "# Normalize        \n",
    "for i, img in enumerate(images):\n",
    "    images[i] = (img/img.max()).float()\n",
    "for i, lb in enumerate(labels):\n",
    "    labels[i] = (lb/lb.max()).float()\n",
    "\n",
    "def get_dataloader(images, labels, batch_size, shuffle=False, pin_memory=False, workers=0):\n",
    "    dataset = Dataset_(images, labels)\n",
    "    dataloader = DataLoader(dataset, batch_size=batch_size, shuffle=shuffle, pin_memory=pin_memory, num_workers=workers)\n",
    "    return dataloader\n",
    "\n",
    "dataloader = get_dataloader(images, labels, args.batch_size)\n",
    "dice_loss_func = losses.Dice().loss"
   ]
  },
  {
   "cell_type": "code",
   "execution_count": 14,
   "id": "2fb4231d-baeb-40a8-a48e-7f1f4929b681",
   "metadata": {},
   "outputs": [],
   "source": [
    "img, lbs = next(iter(dataloader))"
   ]
  },
  {
   "cell_type": "code",
   "execution_count": 15,
   "id": "3debe1f8-fc5d-4ac3-8b6d-4d7b7228db6b",
   "metadata": {},
   "outputs": [
    {
     "data": {
      "text/plain": [
       "torch.Size([1, 40, 256, 256])"
      ]
     },
     "execution_count": 15,
     "metadata": {},
     "output_type": "execute_result"
    }
   ],
   "source": [
    "img.shape"
   ]
  },
  {
   "cell_type": "code",
   "execution_count": 16,
   "id": "c3bff7fa-ffe0-4ef3-9d45-d6edaf386f10",
   "metadata": {},
   "outputs": [],
   "source": [
    "# i = 16\n",
    "# for img, lbs in zip(images, labels):\n",
    "#     fig, (ax1, ax2, ax3) = plt.subplots(1, 3, figsize=(20, 20))\n",
    "#     ax1.imshow(img[i])\n",
    "#     ax2.imshow(lbs[i])\n",
    "#     ax3.imshow(img[i] + lbs[i])"
   ]
  },
  {
   "cell_type": "code",
   "execution_count": 17,
   "id": "4ea0362b-a184-4eac-b5ce-b151dfc097e6",
   "metadata": {},
   "outputs": [],
   "source": [
    "import torch\n",
    "import torch.nn as nn\n",
    "\n",
    "from models.conv_lstm import ConvLSTM\n",
    "from models.unet import Unet\n",
    "from utils.spatial_transform import SpatialTransformer\n",
    "\n",
    "\n",
    "class Unet_ConvLSTM(nn.Module):\n",
    "    def __init__(self, image_size):\n",
    "        super(Unet_ConvLSTM, self).__init__()\n",
    "        self.image_size = image_size\n",
    "        self.ndims = len(image_size)\n",
    "\n",
    "        enc_nf = [16, 32, 32, 32]\n",
    "        dec_nf = [32, 32, 32, 32, 32, 16, 16]\n",
    "        self.unet = Unet(inshape=image_size, infeats=2, nb_features=[enc_nf, dec_nf])\n",
    "\n",
    "        # configure unet to flow field layer\n",
    "        Conv = getattr(nn, 'Conv%dd' % self.ndims)\n",
    "        self.flow = Conv(self.unet.final_nf, self.ndims, kernel_size=3, padding=1)\n",
    "\n",
    "        self.rnn = ConvLSTM(input_dim=2, hidden_dim=2, kernel_size=(3, 3), num_layers=1, batch_first=False)\n",
    "        self.spatial_transformer = SpatialTransformer(size=image_size)\n",
    "\n",
    "    def forward(self, images, labels=None):\n",
    "\n",
    "        # shape of imgs/lbs: (seq_size, bs, 1, W, H)\n",
    "        # shape of unet_out: (seq_size - 1, bs, 2, W, H)\n",
    "        # shape of flows: (seq_size - 1, bs, 2, W, H)\n",
    "        # shape of moved_images = (seq_size - 1, bs, 1, W, H)\n",
    "        \n",
    "        forward_sources, forward_targets = images[:-1], images[1:]\n",
    "        src_trg_zip = zip(forward_sources, forward_targets)\n",
    "\n",
    "        forward_unet_out = torch.cat([self.flow(self.unet(torch.cat([src, trg], dim=1))).unsqueeze(0) for src, trg in src_trg_zip], dim=0)\n",
    "        rnn_out, last_states = self.rnn(forward_unet_out)\n",
    "        h, c = last_states[0]\n",
    "        forward_flows = rnn_out[0].permute(1, 0, 2, 3, 4)\n",
    "        forward_moved_images = torch.cat(\n",
    "            [self.spatial_transformer(src, flow).unsqueeze(0) for src, flow in zip(forward_sources, forward_flows[:])], dim=0)\n",
    "        \n",
    "        if labels is not None:\n",
    "            forward_lbs_sources = labels[:-1]\n",
    "            forward_moved_labels = torch.cat(\n",
    "            [self.spatial_transformer(src, flow).unsqueeze(0) for src, flow in zip(forward_lbs_sources, forward_flows[:])], dim=0)\n",
    "\n",
    "            \n",
    "        backward_sources, backward_targets = images[1:], images[:-1]\n",
    "        src_trg_zip = zip(backward_sources, backward_targets)\n",
    "        backward_unet_out = torch.cat([self.flow(self.unet(torch.cat([src, trg], dim=1))).unsqueeze(0) for src, trg in src_trg_zip], dim=0)\n",
    "        rnn_out, last_states = self.rnn(backward_unet_out)\n",
    "        h, c = last_states[0]\n",
    "        backward_flows = rnn_out[0].permute(1, 0, 2, 3, 4)\n",
    "        backward_moved_images = torch.cat(\n",
    "            [self.spatial_transformer(src, flow).unsqueeze(0) for src, flow in zip(backward_sources, backward_flows[:])], dim=0)\n",
    "        \n",
    "        if labels is not None:\n",
    "            backward_lbs_sources = labels[1:]\n",
    "            backward_moved_labels = torch.cat(\n",
    "            [self.spatial_transformer(src, flow).unsqueeze(0) for src, flow in zip(backward_lbs_sources, backward_flows[:])], dim=0)\n",
    "            return forward_moved_images, forward_moved_labels, backward_moved_images, backward_moved_labels\n",
    "        else:\n",
    "            return forward_moved_images, backward_moved_images"
   ]
  },
  {
   "cell_type": "code",
   "execution_count": 18,
   "id": "a0cce096-bafe-41cc-96f1-b1d416e83050",
   "metadata": {
    "scrolled": true,
    "tags": []
   },
   "outputs": [
    {
     "data": {
      "text/plain": [
       "Unet_ConvLSTM(\n",
       "  (unet): Unet(\n",
       "    (encoder): ModuleList(\n",
       "      (0): ModuleList(\n",
       "        (0): ConvBlock(\n",
       "          (main): Conv2d(2, 16, kernel_size=(3, 3), stride=(1, 1), padding=(1, 1))\n",
       "          (activation): LeakyReLU(negative_slope=0.2)\n",
       "        )\n",
       "      )\n",
       "      (1): ModuleList(\n",
       "        (0): ConvBlock(\n",
       "          (main): Conv2d(16, 32, kernel_size=(3, 3), stride=(1, 1), padding=(1, 1))\n",
       "          (activation): LeakyReLU(negative_slope=0.2)\n",
       "        )\n",
       "      )\n",
       "      (2): ModuleList(\n",
       "        (0): ConvBlock(\n",
       "          (main): Conv2d(32, 32, kernel_size=(3, 3), stride=(1, 1), padding=(1, 1))\n",
       "          (activation): LeakyReLU(negative_slope=0.2)\n",
       "        )\n",
       "      )\n",
       "      (3): ModuleList(\n",
       "        (0): ConvBlock(\n",
       "          (main): Conv2d(32, 32, kernel_size=(3, 3), stride=(1, 1), padding=(1, 1))\n",
       "          (activation): LeakyReLU(negative_slope=0.2)\n",
       "        )\n",
       "      )\n",
       "    )\n",
       "    (decoder): ModuleList(\n",
       "      (0): ModuleList(\n",
       "        (0): ConvBlock(\n",
       "          (main): Conv2d(32, 32, kernel_size=(3, 3), stride=(1, 1), padding=(1, 1))\n",
       "          (activation): LeakyReLU(negative_slope=0.2)\n",
       "        )\n",
       "      )\n",
       "      (1): ModuleList(\n",
       "        (0): ConvBlock(\n",
       "          (main): Conv2d(64, 32, kernel_size=(3, 3), stride=(1, 1), padding=(1, 1))\n",
       "          (activation): LeakyReLU(negative_slope=0.2)\n",
       "        )\n",
       "      )\n",
       "      (2): ModuleList(\n",
       "        (0): ConvBlock(\n",
       "          (main): Conv2d(64, 32, kernel_size=(3, 3), stride=(1, 1), padding=(1, 1))\n",
       "          (activation): LeakyReLU(negative_slope=0.2)\n",
       "        )\n",
       "      )\n",
       "      (3): ModuleList(\n",
       "        (0): ConvBlock(\n",
       "          (main): Conv2d(64, 32, kernel_size=(3, 3), stride=(1, 1), padding=(1, 1))\n",
       "          (activation): LeakyReLU(negative_slope=0.2)\n",
       "        )\n",
       "      )\n",
       "    )\n",
       "    (remaining): ModuleList(\n",
       "      (0): ConvBlock(\n",
       "        (main): Conv2d(48, 32, kernel_size=(3, 3), stride=(1, 1), padding=(1, 1))\n",
       "        (activation): LeakyReLU(negative_slope=0.2)\n",
       "      )\n",
       "      (1): ConvBlock(\n",
       "        (main): Conv2d(32, 16, kernel_size=(3, 3), stride=(1, 1), padding=(1, 1))\n",
       "        (activation): LeakyReLU(negative_slope=0.2)\n",
       "      )\n",
       "      (2): ConvBlock(\n",
       "        (main): Conv2d(16, 16, kernel_size=(3, 3), stride=(1, 1), padding=(1, 1))\n",
       "        (activation): LeakyReLU(negative_slope=0.2)\n",
       "      )\n",
       "    )\n",
       "  )\n",
       "  (flow): Conv2d(16, 2, kernel_size=(3, 3), stride=(1, 1), padding=(1, 1))\n",
       "  (rnn): ConvLSTM(\n",
       "    (cell_list): ModuleList(\n",
       "      (0): ConvLSTMCell(\n",
       "        (conv): Conv2d(4, 8, kernel_size=(3, 3), stride=(1, 1), padding=(1, 1))\n",
       "      )\n",
       "    )\n",
       "  )\n",
       "  (spatial_transformer): SpatialTransformer()\n",
       ")"
      ]
     },
     "execution_count": 18,
     "metadata": {},
     "output_type": "execute_result"
    }
   ],
   "source": [
    "model = Unet_ConvLSTM(dataloader.dataset.image_size)\n",
    "model.to('cuda')\n",
    "model.eval()"
   ]
  },
  {
   "cell_type": "code",
   "execution_count": 90,
   "id": "9f3e78ab-50d9-4027-a5f9-a58dd1970b8d",
   "metadata": {},
   "outputs": [],
   "source": [
    "base = '/HDD/kian/saved-models/DIR1/'\n",
    "model_folder = '807/'\n",
    "snap_shot = '0250'\n",
    "PATH = f'{base}{model_folder}{snap_shot}.pt'\n",
    "checkpoint = torch.load(PATH)\n",
    "model.load_state_dict(checkpoint['model_state_dict'])\n",
    "\n",
    "def dice(y_true, y_pred):\n",
    "    zero = torch.zeros_like(y_true)\n",
    "    one = torch.ones_like(y_true)\n",
    "    y_true = torch.where(y_true > 0, one, zero)\n",
    "    y_pred = torch.where(y_pred > 0, one, zero)\n",
    "\n",
    "    dices = []\n",
    "    for i in range(y_true.shape[0]):\n",
    "        a, b = y_true[i], y_pred[i]\n",
    "        top = 2 * np.multiply(a, b).sum()\n",
    "        bottom = a.sum() + b.sum()\n",
    "        dices.append(top / bottom)\n",
    "    return dices"
   ]
  },
  {
   "cell_type": "code",
   "execution_count": 91,
   "id": "760f41b8-a76a-4734-9a61-6833a4ac29a9",
   "metadata": {},
   "outputs": [
    {
     "name": "stdout",
     "output_type": "stream",
     "text": [
      "fmean: 0.8921412 , std: 0.07635709\n",
      "bmean: 0.87893504 , std: 0.08851705\n"
     ]
    }
   ],
   "source": [
    "fdice_score, bdice_score = [], []\n",
    "for d_idx, data in enumerate(dataloader):\n",
    "    \n",
    "    imgs, lbs = data\n",
    "    bs = imgs.shape[0]\n",
    "    last_real = None\n",
    "    for i, s in enumerate(imgs[0]):\n",
    "        if s.max() < 1e-3:\n",
    "            last_real = i - 1\n",
    "            break\n",
    "\n",
    "    # shape of imgs/lbs: (bs, seq_size, W, H) --> (seq_size, bs, 1, W, H)\n",
    "    imgs = imgs.permute(1, 0, 2, 3).unsqueeze(2).to('cuda')\n",
    "    lbs = lbs.permute(1, 0, 2, 3).unsqueeze(2).to('cuda')\n",
    "\n",
    "    # shape of moved_imgs/moved_labes: (seq_size - 1, bs, 1, W, H)\n",
    "    # shape of flows: (seq_size - 1, bs, 2, W, H)\n",
    "    \n",
    "    with torch.no_grad():\n",
    "        fmoved, fmoved_labels, bmoved, bmoved_labels = model(imgs, lbs)\n",
    "        \n",
    "        window = 5\n",
    "        for f, t in zip(np.arange(last_real + 1 - window), np.arange(window, last_real + 1)):\n",
    "            fmoved, fmoved_labels, bmoved, bmoved_labels = model(imgs[f:t], lbs[f:t])\n",
    "            f_trgs, b_trgs = imgs[f:t][1:], imgs[f:t][:-1]\n",
    "            f_lbs_trgs, b_lbs_trgs = lbs[f:t][1:], lbs[f:t][:-1]\n",
    "            \n",
    "            zero = torch.zeros_like(fmoved_labels).to('cuda')\n",
    "            one = torch.ones_like(fmoved_labels).to('cuda')\n",
    "\n",
    "            f_fixed_lbs = torch.where(f_lbs_trgs > 0, one, zero)\n",
    "            f_moved_lbs = torch.where(fmoved_labels > 0, one, zero)\n",
    "            fdice_score += dice(f_fixed_lbs.cpu(), f_moved_lbs.cpu())\n",
    "\n",
    "            b_fixed_lbs = torch.where(b_lbs_trgs > 0, one, zero)\n",
    "            b_moved_lbs = torch.where(bmoved_labels > 0, one, zero)\n",
    "            bdice_score += dice(b_fixed_lbs.cpu(), b_moved_lbs.cpu())\n",
    "\n",
    "\n",
    "print('fmean:', np.mean(fdice_score), ', std:', np.std(fdice_score))\n",
    "print('bmean:', np.mean(bdice_score), ', std:', np.std(bdice_score))"
   ]
  },
  {
   "cell_type": "code",
   "execution_count": 92,
   "id": "c35eeb54-4493-497a-ad96-c3b21fa171c4",
   "metadata": {},
   "outputs": [],
   "source": [
    "# for i in range(25):\n",
    "#     fig, (ax1, ax2, ax3) = plt.subplots(1, 3, figsize=(14, 14)) \n",
    "#     ax1.imshow(imgs[i][0][0].cpu())\n",
    "#     ax1.title.set_text(f'slice {i}')\n",
    "#     ax2.imshow(b_trgs[i][0][0].cpu())\n",
    "#     ax2.title.set_text(f'b trg {i}')\n",
    "#     ax3.imshow(f_trgs[i][0][0].cpu())\n",
    "#     ax3.title.set_text(f'f trg {i}')\n",
    "#     ax3.imshow(moved)\n",
    "#     ax3.title.set_text('moved')\n",
    "#     ax4.imshow(trg - moved)\n",
    "#     ax4.title.set_text('trg - moved')"
   ]
  },
  {
   "cell_type": "code",
   "execution_count": 93,
   "id": "0ca66af2-f310-40c5-9565-c7b5e5b8a0b8",
   "metadata": {},
   "outputs": [
    {
     "data": {
      "image/png": "[encoded data removed]",
      "text/plain": [
       "<Figure size 576x432 with 1 Axes>"
      ]
     },
     "metadata": {
      "needs_background": "light"
     },
     "output_type": "display_data"
    }
   ],
   "source": [
    "import json\n",
    "tmet = json.load(open(f'{base}{model_folder}train_metrics.json'))\n",
    "\n",
    "eps, loss = [], []\n",
    "for m in tmet:\n",
    "    eps.append(m.get('epoch'))\n",
    "    loss.append(m.get('epoch_loss'))\n",
    "plt.figure(figsize=(8, 6))\n",
    "plt.plot(eps, loss);\n",
    "plt.xlabel('epoch')\n",
    "plt.ylabel('total loss');\n",
    "# plt.title('model trained with SGD (lr: 0.001  momentum: 0.9)');"
   ]
  },
  {
   "cell_type": "code",
   "execution_count": 22,
   "id": "a5cb8926-8a43-49ef-94ac-4fdf8a1b8948",
   "metadata": {},
   "outputs": [],
   "source": [
    "with open('/HDD/vxm-models/structured-data/filtered_images.pkl', 'rb') as f:\n",
    "    pre_images = pickle.load(f)\n",
    "\n",
    "with open('/HDD/vxm-models/structured-data/filtered_labels.pkl', 'rb') as f:\n",
    "    pre_labels = pickle.load(f)\n",
    "\n",
    "images, labels = [], []\n",
    "for ind, img in pre_images.items():\n",
    "    inp = torch.from_numpy(img)\n",
    "    p_inp = torch.nn.functional.pad(inp, pad=(0, 0, 0, 0, 0, 40 - inp.shape[0]), mode='constant', value=0)\n",
    "    images.append(p_inp)\n",
    "\n",
    "for ind, img in pre_labels.items():\n",
    "    inp = torch.from_numpy(img)\n",
    "    p_inp = torch.nn.functional.pad(inp, pad=(0, 0, 0, 0, 0, 40 - inp.shape[0]), mode='constant', value=0)\n",
    "    labels.append(p_inp)    \n",
    "\n",
    "# Normalize        \n",
    "for i, img in enumerate(images):\n",
    "    print(img.shape)\n",
    "    images[i] = (img/img.max()).float()\n",
    "\n",
    "for i, lb in enumerate(labels):\n",
    "    labels[i] = (lb/lb.max()).float()"
   ]
  },
  {
   "cell_type": "code",
   "execution_count": 48,
   "id": "566d2ea5-4d3b-4a89-a329-01a007b77d79",
   "metadata": {},
   "outputs": [],
   "source": [
    "with open('/HDD/vxm-models/structured-data/filtered_images.pkl', 'rb') as f:\n",
    "    pre_images = pickle.load(f)\n",
    "with open('/HDD/vxm-models/structured-data/filtered_labels.pkl', 'rb') as f:\n",
    "    pre_labels = pickle.load(f)\n",
    "    \n",
    "images, labels = [], []\n",
    "for ind, img in pre_images.items():\n",
    "    images.append(torch.from_numpy(img))\n",
    "for ind, img in pre_labels.items():\n",
    "    labels.append(torch.from_numpy(img))\n",
    "       \n",
    "for i, img in enumerate(images):\n",
    "    images[i] = (img/img.max()).float()\n",
    "for i, lb in enumerate(labels):\n",
    "    labels[i] = (lb/lb.max()).float()"
   ]
  },
  {
   "cell_type": "code",
   "execution_count": 21,
   "id": "99aa06a1-2ded-4292-a79e-31600c8579a6",
   "metadata": {},
   "outputs": [],
   "source": [
    "# last_real = 23\n",
    "# for f, t in zip(np.arange(last_real + 1 - 5), np.arange(5, last_real + 1)):\n",
    "#     fig, (ax1, ax2) = plt.subplots(1, 2, figsize=(12, 12))\n",
    "#     ax1.imshow(images[0][t])\n",
    "#     ax2.imshow(images[0][f])"
   ]
  },
  {
   "cell_type": "code",
   "execution_count": 106,
   "id": "32e388dc-c430-481b-9985-20dae268883e",
   "metadata": {},
   "outputs": [],
   "source": [
    "def check_eq(a, b):\n",
    "    if len(a) != len(b):\n",
    "        return False\n",
    "    for i, el in enumerate(a):\n",
    "        if b[i] != el:\n",
    "            return False\n",
    "    return True\n",
    "    \n",
    "\n",
    "\n",
    "def dice(y_true, y_pred):\n",
    "    eq_dices, neq_dices = [], []\n",
    "    for i in range(y_true.shape[0] - 1):\n",
    "        a, b = y_true[i], y_pred[i]\n",
    "        \n",
    "        zero = torch.zeros_like(a)\n",
    "        one = torch.ones_like(a)\n",
    "        c = torch.where(a > 0, one, zero)\n",
    "        d = torch.where(b > 0, one, zero)\n",
    "        top = 2 * np.multiply(c, d).sum()\n",
    "        bottom = c.sum() + d.sum()\n",
    "        if check_eq(np.unique(a), np.unique(b)):\n",
    "            eq_dices.append((top / bottom).item())\n",
    "        else:\n",
    "            neq_dices.append((top / bottom).item())\n",
    "    return eq_dices, neq_dices"
   ]
  },
  {
   "cell_type": "code",
   "execution_count": 107,
   "id": "c8dcb396-9e4d-49bf-b844-b68d68548069",
   "metadata": {},
   "outputs": [],
   "source": [
    "all_eq, all_neq = [], []\n",
    "for i, pl in enumerate(labels):\n",
    "    last_real = None\n",
    "    for j, s in enumerate(pl):\n",
    "        if s.max() == 0:\n",
    "            last_real = j - 1\n",
    "            break\n",
    "    \n",
    "    y_true = labels[i][:last_real]\n",
    "    y_pred = labels[i][1:last_real + 1]\n",
    "    \n",
    "    eq, neq = dice(y_true, y_pred)\n",
    "    all_eq += eq\n",
    "    all_neq += neq"
   ]
  },
  {
   "cell_type": "code",
   "execution_count": 128,
   "id": "6a9df582-0c7e-43f6-9473-41d8b8a767f1",
   "metadata": {},
   "outputs": [
    {
     "name": "stdout",
     "output_type": "stream",
     "text": [
      "0.7875215948742127\n"
     ]
    },
    {
     "name": "stderr",
     "output_type": "stream",
     "text": [
      "/home/khalili/.local/lib/python3.7/site-packages/seaborn/distributions.py:2619: FutureWarning: `distplot` is a deprecated function and will be removed in a future version. Please adapt your code to use either `displot` (a figure-level function with similar flexibility) or `histplot` (an axes-level function for histograms).\n",
      "  warnings.warn(msg, FutureWarning)\n",
      "/home/khalili/.local/lib/python3.7/site-packages/seaborn/distributions.py:2619: FutureWarning: `distplot` is a deprecated function and will be removed in a future version. Please adapt your code to use either `displot` (a figure-level function with similar flexibility) or `histplot` (an axes-level function for histograms).\n",
      "  warnings.warn(msg, FutureWarning)\n"
     ]
    },
    {
     "data": {
      "image/png": "[encoded data removed]",
      "text/plain": [
       "<Figure size 432x288 with 1 Axes>"
      ]
     },
     "metadata": {
      "needs_background": "light"
     },
     "output_type": "display_data"
    }
   ],
   "source": [
    "import seaborn as sns\n",
    "import pandas as pd\n",
    "\n",
    "data = pd.DataFrame()\n",
    "data['dices'] = all_eq + all_neq\n",
    "data['same'] = [1 for _ in range(len(all_eq))] + [0 for _ in range(len(all_neq))]\n",
    "sns.distplot(data.dices[data.same==1]);\n",
    "sns.distplot(data.dices[data.same==0]);\n",
    "print(np.mean(all_neq))"
   ]
  },
  {
   "cell_type": "code",
   "execution_count": null,
   "id": "0e08fac1-8e0e-48f9-b5b6-d478670d7d8f",
   "metadata": {},
   "outputs": [],
   "source": []
  }
 ],
 "metadata": {
  "kernelspec": {
   "display_name": "Python 3 (ipykernel)",
   "language": "python",
   "name": "python3"
  },
  "language_info": {
   "codemirror_mode": {
    "name": "ipython",
    "version": 3
   },
   "file_extension": ".py",
   "mimetype": "text/x-python",
   "name": "python",
   "nbconvert_exporter": "python",
   "pygments_lexer": "ipython3",
   "version": "3.7.10"
  }
 },
 "nbformat": 4,
 "nbformat_minor": 5
}
